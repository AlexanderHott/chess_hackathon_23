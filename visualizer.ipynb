{
 "cells": [
  {
   "cell_type": "code",
   "execution_count": 1,
   "id": "9d1c578f-c8d5-45f2-99e5-f9637c07381e",
   "metadata": {},
   "outputs": [],
   "source": [
    "import chess\n",
    "from chess import svg\n",
    "from IPython.display import SVG, display\n",
    "\n",
    "def show_board(board: chess.Board, arrows: list[svg.Arrow] | None = None):\n",
    "    \"\"\"Turn a `Board` into a 500x500 svg and display it in the console.\"\"\"\n",
    "    if arrows is None:\n",
    "        arrows = []\n",
    "    last_move = board.peek()\n",
    "    display(SVG(svg.board(\n",
    "        board, \n",
    "        arrows=[\n",
    "            chess.svg.Arrow(last_move.from_square, last_move.to_square, color=\"#0000cccc\"),\n",
    "            *arrows\n",
    "        ],\n",
    "    ).replace(\"<svg\", '<svg height=\"500\" width=\"500\"')), clear=True)\n",
    "    "
   ]
  },
  {
   "cell_type": "code",
   "execution_count": 2,
   "id": "47ee8cc9-9cdf-4650-a49f-aa29de2c89a5",
   "metadata": {},
   "outputs": [
    {
     "ename": "NameError",
     "evalue": "name 'show_board' is not defined",
     "output_type": "error",
     "traceback": [
      "\u001b[0;31m---------------------------------------------------------------------------\u001b[0m",
      "\u001b[0;31mNameError\u001b[0m                                 Traceback (most recent call last)",
      "Cell \u001b[0;32mIn[2], line 18\u001b[0m\n\u001b[1;32m     16\u001b[0m \u001b[38;5;28;01mwhile\u001b[39;00m \u001b[38;5;129;01mnot\u001b[39;00m grob_bot\u001b[38;5;241m.\u001b[39mboard\u001b[38;5;241m.\u001b[39mis_game_over():\n\u001b[1;32m     17\u001b[0m     evaluator\u001b[38;5;241m.\u001b[39mreset_debug_vars()\n\u001b[0;32m---> 18\u001b[0m     move \u001b[38;5;241m=\u001b[39m \u001b[43mgrob_bot\u001b[49m\u001b[38;5;241;43m.\u001b[39;49m\u001b[43mnext_move\u001b[49m\u001b[43m(\u001b[49m\u001b[43m)\u001b[49m\n\u001b[1;32m     19\u001b[0m     grob_bot\u001b[38;5;241m.\u001b[39mboard\u001b[38;5;241m.\u001b[39mpush_san(move)\n\u001b[1;32m     21\u001b[0m     \u001b[38;5;28;01mif\u001b[39;00m grob_bot\u001b[38;5;241m.\u001b[39mboard\u001b[38;5;241m.\u001b[39mis_game_over():\n",
      "File \u001b[0;32m~/personal/chess_hackathon_23/bot.py:102\u001b[0m, in \u001b[0;36mBot.next_move\u001b[0;34m(self, update_zobrist_hash)\u001b[0m\n\u001b[1;32m     92\u001b[0m \u001b[38;5;250m\u001b[39m\u001b[38;5;124;03m\"\"\"\u001b[39;00m\n\u001b[1;32m     93\u001b[0m \u001b[38;5;124;03mThe main call and response loop for playing a game of chess.\u001b[39;00m\n\u001b[1;32m     94\u001b[0m \n\u001b[1;32m     95\u001b[0m \u001b[38;5;124;03mReturns:\u001b[39;00m\n\u001b[1;32m     96\u001b[0m \u001b[38;5;124;03m    str: The current location and the next move.\u001b[39;00m\n\u001b[1;32m     97\u001b[0m \u001b[38;5;124;03m\"\"\"\u001b[39;00m\n\u001b[1;32m     99\u001b[0m \u001b[38;5;66;03m# Assume that you are playing an arbitrary game. This function, which is\u001b[39;00m\n\u001b[1;32m    100\u001b[0m \u001b[38;5;66;03m# the core \"brain\" of the bot, should return the next move in any circumstance.\u001b[39;00m\n\u001b[0;32m--> 102\u001b[0m _, move \u001b[38;5;241m=\u001b[39m \u001b[43mevaluator\u001b[49m\u001b[38;5;241;43m.\u001b[39;49m\u001b[43msearch\u001b[49m\u001b[43m(\u001b[49m\n\u001b[1;32m    103\u001b[0m \u001b[43m    \u001b[49m\u001b[38;5;28;43mself\u001b[39;49m\u001b[38;5;241;43m.\u001b[39;49m\u001b[43mboard\u001b[49m\u001b[43m,\u001b[49m\n\u001b[1;32m    104\u001b[0m \u001b[43m    \u001b[49m\u001b[43mdepth\u001b[49m\u001b[38;5;241;43m=\u001b[39;49m\u001b[38;5;28;43mself\u001b[39;49m\u001b[38;5;241;43m.\u001b[39;49m\u001b[43mdepth\u001b[49m\u001b[43m,\u001b[49m\n\u001b[1;32m    105\u001b[0m \u001b[43m    \u001b[49m\u001b[43mopening_book\u001b[49m\u001b[38;5;241;43m=\u001b[39;49m\u001b[38;5;28;43mself\u001b[39;49m\u001b[38;5;241;43m.\u001b[39;49m\u001b[43mopening_book\u001b[49m\u001b[43m,\u001b[49m\n\u001b[1;32m    106\u001b[0m \u001b[43m    \u001b[49m\u001b[43mtransition_table\u001b[49m\u001b[38;5;241;43m=\u001b[39;49m\u001b[38;5;28;43mself\u001b[39;49m\u001b[38;5;241;43m.\u001b[39;49m\u001b[43mtransition_table\u001b[49m\u001b[43m,\u001b[49m\n\u001b[1;32m    107\u001b[0m \u001b[43m    \u001b[49m\u001b[43mzobrist_numbers\u001b[49m\u001b[38;5;241;43m=\u001b[39;49m\u001b[38;5;28;43mself\u001b[39;49m\u001b[38;5;241;43m.\u001b[39;49m\u001b[43mzobrist_numbers\u001b[49m\u001b[43m,\u001b[49m\n\u001b[1;32m    108\u001b[0m \u001b[43m    \u001b[49m\u001b[43mzobrist_hash\u001b[49m\u001b[38;5;241;43m=\u001b[39;49m\u001b[38;5;28;43mself\u001b[39;49m\u001b[38;5;241;43m.\u001b[39;49m\u001b[43mzobrist_hash\u001b[49m\u001b[43m,\u001b[49m\n\u001b[1;32m    109\u001b[0m \u001b[43m    \u001b[49m\u001b[43mdebug_counts\u001b[49m\u001b[38;5;241;43m=\u001b[39;49m\u001b[38;5;28;43mself\u001b[39;49m\u001b[38;5;241;43m.\u001b[39;49m\u001b[43mdebug\u001b[49m\u001b[43m,\u001b[49m\n\u001b[1;32m    110\u001b[0m \u001b[43m\u001b[49m\u001b[43m)\u001b[49m\n\u001b[1;32m    111\u001b[0m \u001b[38;5;66;03m# delete the move once we make it bc we don't want repitition draws\u001b[39;00m\n\u001b[1;32m    112\u001b[0m \u001b[38;5;28;01mif\u001b[39;00m \u001b[38;5;28mself\u001b[39m\u001b[38;5;241m.\u001b[39mzobrist_hash \u001b[38;5;129;01min\u001b[39;00m \u001b[38;5;28mself\u001b[39m\u001b[38;5;241m.\u001b[39mtransition_table:\n",
      "File \u001b[0;32m~/personal/chess_hackathon_23/grob/evaluator.py:504\u001b[0m, in \u001b[0;36msearch\u001b[0;34m(board, depth, alpha, beta, levels_deep, transition_table, _use_transition_table, zobrist_numbers, zobrist_hash, opening_book, using_opening_book, guess_move_order, search_captures, search_checks, debug_counts)\u001b[0m\n\u001b[1;32m    486\u001b[0m evaluation \u001b[38;5;241m=\u001b[39m \u001b[38;5;241m-\u001b[39msearch(\n\u001b[1;32m    487\u001b[0m     board,\n\u001b[1;32m    488\u001b[0m     depth \u001b[38;5;241m-\u001b[39m \u001b[38;5;241m1\u001b[39m,\n\u001b[0;32m   (...)\u001b[0m\n\u001b[1;32m    501\u001b[0m     _use_transition_table\u001b[38;5;241m=\u001b[39m\u001b[38;5;28;01mTrue\u001b[39;00m,\n\u001b[1;32m    502\u001b[0m )[\u001b[38;5;241m0\u001b[39m]\n\u001b[1;32m    503\u001b[0m eval_logger\u001b[38;5;241m.\u001b[39mdebug(\u001b[38;5;124mf\u001b[39m\u001b[38;5;124m\"\u001b[39m\u001b[38;5;132;01m{\u001b[39;00mboard\u001b[38;5;241m.\u001b[39mfen()\u001b[38;5;132;01m}\u001b[39;00m\u001b[38;5;124m \u001b[39m\u001b[38;5;132;01m{\u001b[39;00mevaluation\u001b[38;5;132;01m}\u001b[39;00m\u001b[38;5;124m\"\u001b[39m)\n\u001b[0;32m--> 504\u001b[0m \u001b[43mshow_board\u001b[49m(board)\n\u001b[1;32m    505\u001b[0m \u001b[38;5;28mprint\u001b[39m(evaluation)\n\u001b[1;32m    506\u001b[0m board\u001b[38;5;241m.\u001b[39mpop()\n",
      "\u001b[0;31mNameError\u001b[0m: name 'show_board' is not defined"
     ]
    }
   ],
   "source": [
    "from bot import Bot\n",
    "from test_bot import get_move\n",
    "from tests.random_bot import RandomBot\n",
    "from grob import evaluator\n",
    "import time\n",
    "\n",
    "grob_bot = Bot(depth=1, debug=True)\n",
    "grob2 = Bot(depth=1, debug=True)\n",
    "grob2.board = grob_bot.board\n",
    "grob_bot.opening_book = grob2.opening_book = {}\n",
    "\n",
    "# random_bot = RandomBot()\n",
    "# random_bot.board = grob_bot.board\n",
    "get_user_input = False\n",
    "    \n",
    "while not grob_bot.board.is_game_over():\n",
    "    evaluator.reset_debug_vars()\n",
    "    move = grob_bot.next_move()\n",
    "    grob_bot.board.push_san(move)\n",
    "\n",
    "    if grob_bot.board.is_game_over():\n",
    "        break\n",
    "    show_board(grob_bot.board)\n",
    "    print(f\"move: {move}, count: {evaluator.debug_search_count}, depth: {evaluator.debug_search_depth}\")\n",
    "\n",
    "    # input()\n",
    "    time.sleep(1)\n",
    "    if get_user_input:\n",
    "        move = input()\n",
    "    else:\n",
    "        move = grob2.next_move()\n",
    "    grob_bot.board.push_san(move)\n",
    "    if grob_bot.board.is_game_over():\n",
    "        break\n",
    "    show_board(grob_bot.board)\n",
    "    print(f\"move: {move}, count: {evaluator.debug_search_count}, depth: {evaluator.debug_search_depth}\")\n",
    "    # input()\n",
    "    time.sleep(1)\n",
    "\n",
    "show_board(grob_bot.board)\n",
    "print(f\"Checkmate? {grob_bot.board.is_checkmate()} {'white' if grob_bot.board.turn == chess.BLACK else 'black' }\")\n",
    "print(f\"{grob_bot.board!r}\")"
   ]
  },
  {
   "cell_type": "code",
   "execution_count": null,
   "id": "69e03544-f98f-4f09-83c3-c24e6bb02f5e",
   "metadata": {},
   "outputs": [],
   "source": [
    "list(grob_bot.transition_table)"
   ]
  },
  {
   "cell_type": "code",
   "execution_count": null,
   "id": "ad7a7fd3-a24c-4f66-bf9b-88d660100017",
   "metadata": {},
   "outputs": [],
   "source": [
    "grob_bot.board.is_repetition()"
   ]
  }
 ],
 "metadata": {
  "kernelspec": {
   "display_name": "Python 3 (ipykernel)",
   "language": "python",
   "name": "python3"
  },
  "language_info": {
   "codemirror_mode": {
    "name": "ipython",
    "version": 3
   },
   "file_extension": ".py",
   "mimetype": "text/x-python",
   "name": "python",
   "nbconvert_exporter": "python",
   "pygments_lexer": "ipython3",
   "version": "3.11.6"
  }
 },
 "nbformat": 4,
 "nbformat_minor": 5
}
